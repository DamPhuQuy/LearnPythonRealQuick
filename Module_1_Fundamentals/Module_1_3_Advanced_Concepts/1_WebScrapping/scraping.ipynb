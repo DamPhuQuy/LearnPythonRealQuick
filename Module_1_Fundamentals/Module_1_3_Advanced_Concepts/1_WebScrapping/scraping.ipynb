{
 "cells": [
  {
   "cell_type": "markdown",
   "id": "04a092ec",
   "metadata": {},
   "source": [
    "# Web scarping\n",
    "\n",
    "## What is web scraping?\n",
    "\n",
    "- Basically it is a way to automatically collect data from web pages using code instead of manual copy-paste.\n",
    "- Before using your Python skills for web scraping, you should always check your target website’s acceptable use policy to see if accessing the website with automated tools is a violation of its terms of use. Legally, web scraping against the wishes of a website is very much a gray area.\n",
    "\n",
    "## Application of web scraping:\n",
    "\n",
    "1. Track Prices\n",
    "2. Collect news and blogs\n",
    "3. Gather research data\n",
    "4. Extract job listings\n",
    "5. Generate leads\n",
    "\n",
    "## Common supported library:\n",
    "\n",
    "- requests: Sends HTTP requests to get a response for webpage content (used for static sites).\n",
    "- beautifulsoup4: Parses and extracts HTML content (like tags, text, links).\n",
    "- selenium: Automates browsers (needed for dynamic sites with JavaScript).\n",
    "- lxml: A fast HTML/XML parser, useful for large or complex pages.\n",
    "- schedule: Lets you run scraping tasks repeatedly at fixed intervals.\n",
    "- pyautogui: Automates mouse and keyboard; useful when dealing with UI-based interactions.\n"
   ]
  }
 ],
 "metadata": {
  "kernelspec": {
   "display_name": "base",
   "language": "python",
   "name": "python3"
  },
  "language_info": {
   "codemirror_mode": {
    "name": "ipython",
    "version": 3
   },
   "file_extension": ".py",
   "mimetype": "text/x-python",
   "name": "python",
   "nbconvert_exporter": "python",
   "pygments_lexer": "ipython3",
   "version": "3.13.5"
  }
 },
 "nbformat": 4,
 "nbformat_minor": 5
}
