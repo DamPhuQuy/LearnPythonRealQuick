{
 "cells": [
  {
   "cell_type": "markdown",
   "metadata": {
    "id": "wqtsIXmn0ZP3"
   },
   "source": [
    "EX1: Hoàn thành đoạn code sau để giải quyết Problem 1\n"
   ]
  },
  {
   "cell_type": "code",
   "execution_count": 1,
   "metadata": {
    "id": "co65tnyo0YiU"
   },
   "outputs": [],
   "source": [
    "def max_in_window(num_list: list[int], k: int = 3):\n",
    "    # Your code here\n",
    "    if k <= 0 or k > len(num_list):\n",
    "        return -1\n",
    "    max_values: list[int] = []\n",
    "\n",
    "    # max_element: int = num_list[0]\n",
    "    # for right in range(k - 1, len(num_list)): # traverse the list\n",
    "    #     for left in range(left, right + 1): # traverse the window\n",
    "    #        max_element = max(max_element, num_list[left])\n",
    "    #     max_values.append(max)\n",
    "    # return max_values\n",
    "\n",
    "    left: int = 0\n",
    "    right: int = k - 1\n",
    "    max_element: int = num_list[0]\n",
    "\n",
    "    while right < len(num_list):  # traverse the list\n",
    "        for i in range(left, right + 1):  # traverse the window\n",
    "            max_element = max(max_element, num_list[i])\n",
    "        max_values.append(max_element)\n",
    "        left += 1\n",
    "        right += 1\n",
    "    return max_values\n",
    "\n",
    "    # End your code\n",
    "\n",
    "\n",
    "test: list[int] = [3, 4, 5, 1, -44]\n",
    "assert max_in_window(num_list=test, k=3) == [5, 5, 5]"
   ]
  },
  {
   "cell_type": "code",
   "execution_count": null,
   "metadata": {
    "id": "zPVytgtf0-ie"
   },
   "outputs": [
    {
     "name": "stdout",
     "output_type": "stream",
     "text": [
      "[5, 5, 5, 5, 10, 12, 33, 33]\n"
     ]
    }
   ],
   "source": [
    "num_list = [3, 4, 5, 1, -44, 5, 10, 12, 33, 1]\n",
    "print(max_in_window(num_list=num_list, k=3))\n",
    "\n",
    "# A [5, 5, 5, 5, 10, 12, 33, 33]\n",
    "# B [2, 5, 3, 4, 1, 10, 3, 3]\n",
    "# C [0, 9, 5, 1, 0, 12, 3, 33]\n",
    "# D Raise a Error\n",
    "\n",
    "# Ans: A"
   ]
  },
  {
   "cell_type": "markdown",
   "metadata": {
    "id": "Bwuf3JM-2EHl"
   },
   "source": [
    "EX2: Hoàn thành đoạn code sau để giải quyết Problem 2\n"
   ]
  },
  {
   "cell_type": "code",
   "execution_count": null,
   "metadata": {
    "id": "xutPH77e2DPV"
   },
   "outputs": [],
   "source": [
    "def intersection(lst1: list[int], lst2: list[int]):\n",
    "    # Your code here\n",
    "    size1: int = len(lst1)\n",
    "    size2: int = len(lst2)\n",
    "\n",
    "    res: list[int] = []\n",
    "\n",
    "    # Brute force\n",
    "    for i in range(size1):\n",
    "        for j in range(size2):\n",
    "            if lst1[i] == lst2[j] and lst1[i] not in res:\n",
    "                res.append(lst1[i])\n",
    "    return res\n",
    "    # End your code\n",
    "\n",
    "\n",
    "test_list1: list[int] = [4, 9]\n",
    "test_list2: list[int] = [9, 2]\n",
    "assert intersection(lst1=test_list1, lst2=test_list2) == [9]"
   ]
  },
  {
   "cell_type": "code",
   "execution_count": null,
   "metadata": {
    "id": "8T4pYMyu2X4v"
   },
   "outputs": [
    {
     "name": "stdout",
     "output_type": "stream",
     "text": [
      "[4, 9]\n"
     ]
    }
   ],
   "source": [
    "num_list1: list[int] = [4, 9, 5]\n",
    "num_list2: list[int] = [9, 4, 9, 8, 4]\n",
    "print(intersection(num_list1, num_list2))\n",
    "\n",
    "# A [9, 9]\n",
    "# B [4, 9]\n",
    "# C [4, 2]\n",
    "# D Raise a Error\n",
    "\n",
    "# Ans: B"
   ]
  },
  {
   "cell_type": "markdown",
   "metadata": {
    "id": "OTWYnyBj2urV"
   },
   "source": [
    "EX3: Hoàn thành đoạn code sau để giải quyết Problem 3\n"
   ]
  },
  {
   "cell_type": "code",
   "execution_count": 9,
   "metadata": {
    "id": "fDTEb6pQ2w3z"
   },
   "outputs": [],
   "source": [
    "def count_chars(inp_str: str) -> dict[str, int]:\n",
    "    # Your code here\n",
    "    count: dict[str, int] = {}\n",
    "\n",
    "    for character in inp_str:\n",
    "        if character in count:\n",
    "            count[character] += 1\n",
    "        else:\n",
    "            count[character] = 1\n",
    "    return count\n",
    "    # End your code\n",
    "\n",
    "\n",
    "test_string = \"Happiness\"\n",
    "assert count_chars(inp_str=test_string) == {\n",
    "    \"H\": 1,\n",
    "    \"a\": 1,\n",
    "    \"p\": 2,\n",
    "    \"i\": 1,\n",
    "    \"n\": 1,\n",
    "    \"e\": 1,\n",
    "    \"s\": 2,\n",
    "}"
   ]
  },
  {
   "cell_type": "code",
   "execution_count": null,
   "metadata": {
    "id": "-wl8qJ0H3Bl9"
   },
   "outputs": [
    {
     "data": {
      "text/plain": [
       "{'s': 2, 'm': 1, 'i': 1, 'l': 1, 'e': 1}"
      ]
     },
     "execution_count": 10,
     "metadata": {},
     "output_type": "execute_result"
    }
   ],
   "source": [
    "string = \"smiles\"\n",
    "count_chars(string)\n",
    "\n",
    "# A {'s': 2, 'm': 1, 'i': 1, 'l': 1, 'e': 1}\n",
    "# B {'s': 0, 'm': 1, 'i': 1, 'l': 1, 'e': 8}\n",
    "# C {'s': 4, 'm': 1, 'i': 2, 'l': 1, 'e': 1}\n",
    "# D Raise a Error\n",
    "\n",
    "# Ans: A"
   ]
  },
  {
   "cell_type": "markdown",
   "metadata": {
    "id": "3DsARJux3ODc"
   },
   "source": [
    "EX4: Hoàn thành đoạn code sau để giải quyết Problem 4\n"
   ]
  },
  {
   "cell_type": "code",
   "execution_count": 7,
   "metadata": {
    "id": "A_LfxoY23Q0b"
   },
   "outputs": [
    {
     "name": "stdout",
     "output_type": "stream",
     "text": [
      "/bin/bash: line 1: gdown: command not found\n"
     ]
    }
   ],
   "source": [
    "!gdown https://drive.google.com/uc?id=1IBScGdW2xlNsc9v5zSAya548kNgiOrko"
   ]
  },
  {
   "cell_type": "code",
   "execution_count": null,
   "metadata": {
    "id": "a-wgMHHk3Sq-"
   },
   "outputs": [],
   "source": [
    "from re import Pattern\n",
    "import re\n",
    "\n",
    "\n",
    "def count_words(file_path: str) -> dict[str, int]:\n",
    "    # Your code here\n",
    "    count: dict[str, int] = {}\n",
    "    with open(file_path, \"r\") as file:\n",
    "        pattern: Pattern[str] = re.compile(r\"\\w+\")\n",
    "        for line in file:\n",
    "            words: list[str] = pattern.findall(line.lower())\n",
    "            for word in words:\n",
    "                if word in count:\n",
    "                    count[word] += 1\n",
    "                else:\n",
    "                    count[word] = 1\n",
    "    return count\n",
    "    # End your code\n",
    "\n",
    "\n",
    "file_path = \"P1_data.txt\"\n",
    "assert count_words(file_path)[\"success\"] == 3"
   ]
  },
  {
   "cell_type": "code",
   "execution_count": null,
   "metadata": {
    "id": "qs8pW2bj3ZWD"
   },
   "outputs": [
    {
     "data": {
      "text/plain": [
       "6"
      ]
     },
     "execution_count": 9,
     "metadata": {},
     "output_type": "execute_result"
    }
   ],
   "source": [
    "file_path = \"P1_data.txt\"\n",
    "count_words(file_path)[\"man\"]\n",
    "\n",
    "# A 4\n",
    "# B 5\n",
    "# C 6\n",
    "# D 9\n",
    "\n",
    "# Ans: C"
   ]
  },
  {
   "cell_type": "markdown",
   "metadata": {
    "id": "4hcrcz_xaoqP"
   },
   "source": [
    "EX5: Đầu\n",
    "ra của chương trình sau đây là gì?\n"
   ]
  },
  {
   "cell_type": "code",
   "execution_count": null,
   "metadata": {
    "id": "F-CciqZaVchn"
   },
   "outputs": [
    {
     "name": "stdout",
     "output_type": "stream",
     "text": [
      "400\n"
     ]
    }
   ],
   "source": [
    "n = 1\n",
    "for i in range(0, 500, 100):\n",
    "    n = i\n",
    "print(n)\n",
    "\n",
    "# A: 900   B:400   C: None  D:  Raise a Error\n",
    "\n",
    "# Ans: 400"
   ]
  },
  {
   "cell_type": "markdown",
   "metadata": {
    "id": "yhVrRhTBazZN"
   },
   "source": [
    "EX6: Đầu\n",
    "ra của chương trình sau đây là gì?\n"
   ]
  },
  {
   "cell_type": "code",
   "execution_count": null,
   "metadata": {
    "id": "ZbZpAZ1HV-ae"
   },
   "outputs": [
    {
     "name": "stdout",
     "output_type": "stream",
     "text": [
      "learning\n"
     ]
    }
   ],
   "source": [
    "data = \"I'm learning Python!\"\n",
    "print(data.split()[1])\n",
    "\n",
    "# A: Python\n",
    "# B: learning\n",
    "# C: I'm\n",
    "# D: Raise a Error\n",
    "\n",
    "# Ans: B"
   ]
  },
  {
   "cell_type": "markdown",
   "metadata": {
    "id": "ZT3NC0Kja2Gt"
   },
   "source": [
    "EX7: Hoàn thành chương trình sau. Đầu\n",
    "ra của chương trình sau đây là gì?\n"
   ]
  },
  {
   "cell_type": "code",
   "execution_count": 13,
   "metadata": {
    "id": "-I2248BVYPLu"
   },
   "outputs": [],
   "source": [
    "def check_the_number(N):\n",
    "    list_of_numbers = []\n",
    "    result = \"\"\n",
    "    for i in range(1, 5):\n",
    "        # Your code here\n",
    "        # Sử dụng append thêm i vào trong list_of_number\n",
    "        list_of_numbers.append(i)\n",
    "\n",
    "    if N in list_of_numbers:\n",
    "        results = \"True\"\n",
    "    if N not in list_of_numbers:\n",
    "        results = \"False\"\n",
    "    return results\n",
    "\n",
    "\n",
    "N = 7\n",
    "assert check_the_number(N) == \"False\""
   ]
  },
  {
   "cell_type": "code",
   "execution_count": null,
   "metadata": {
    "id": "Z3IjM8ZHDLbE"
   },
   "outputs": [
    {
     "name": "stdout",
     "output_type": "stream",
     "text": [
      "True\n"
     ]
    }
   ],
   "source": [
    "N = 2\n",
    "results = check_the_number(N)\n",
    "print(results)\n",
    "\n",
    "# A: True   B: False  C: Nothing  D: Raise a Error\n",
    "\n",
    "# Ans: True"
   ]
  },
  {
   "cell_type": "markdown",
   "metadata": {
    "id": "Fn-oZCA8dAvH"
   },
   "source": [
    "EX8: Đầu ra của chương trình dưới đây là gì?\n"
   ]
  },
  {
   "cell_type": "code",
   "execution_count": null,
   "metadata": {
    "id": "f5eSEBKmavDN"
   },
   "outputs": [
    {
     "name": "stdout",
     "output_type": "stream",
     "text": [
      "<class 'str'>\n"
     ]
    }
   ],
   "source": [
    "data = \"my list : [ 1, 2, [3, 4]]\"\n",
    "print(type(data))\n",
    "\n",
    "# A: <class 'str'>\n",
    "# B: <class 'list'>\n",
    "# C: <class 'mydata'>\n",
    "# D:  Raise a Error\n",
    "\n",
    "# Ans: A"
   ]
  },
  {
   "cell_type": "markdown",
   "metadata": {
    "id": "VV2qBU2Gee5n"
   },
   "source": [
    "EX9: Đầu ra của chương trình dưới đây là gì?\n"
   ]
  },
  {
   "cell_type": "code",
   "execution_count": null,
   "metadata": {
    "id": "KlpDzEVtddFd"
   },
   "outputs": [
    {
     "data": {
      "text/plain": [
       "True"
      ]
     },
     "execution_count": 16,
     "metadata": {},
     "output_type": "execute_result"
    }
   ],
   "source": [
    "\"Eiffel\" > \"Apple\"\n",
    "\n",
    "# A: True\n",
    "# B:False\n",
    "# C:Raise a Error\n",
    "# D: None of the above\n",
    "\n",
    "# Ans: True"
   ]
  },
  {
   "cell_type": "markdown",
   "metadata": {
    "id": "oHJsd3QOfsj_"
   },
   "source": [
    "EX10: Đầu ra của chương trình dưới đây là gì?\n"
   ]
  },
  {
   "cell_type": "code",
   "execution_count": null,
   "metadata": {
    "id": "jUH5ZWj7fUUM"
   },
   "outputs": [
    {
     "name": "stdout",
     "output_type": "stream",
     "text": [
      "3\n"
     ]
    }
   ],
   "source": [
    "n = 0\n",
    "for i in range(5):\n",
    "    n += i\n",
    "    if n > 0 and n % 3 == 0:\n",
    "        break\n",
    "print(n)\n",
    "\n",
    "# A: 0  B:3  C:Raise a Error D: 6\n",
    "\n",
    "# Ans: 3"
   ]
  },
  {
   "cell_type": "markdown",
   "metadata": {
    "id": "g5zAWMFnlk7p"
   },
   "source": [
    "EX11: Đầu ra của chương trình dưới đây là gì?\n"
   ]
  },
  {
   "cell_type": "code",
   "execution_count": null,
   "metadata": {
    "id": "zzM4SP11gTFl"
   },
   "outputs": [
    {
     "name": "stdout",
     "output_type": "stream",
     "text": [
      "Cherry Blossom After WinterFlowers are blooming on the hillsides, which signals the coming of spring\n",
      "spring\n"
     ]
    }
   ],
   "source": [
    "space1 = \"Cherry Blossom After Winter\"\n",
    "space2 = (\n",
    "    \"Flowers are blooming on the hillsides, which signals the coming of spring\"\n",
    ")\n",
    "space = space1 + space2\n",
    "print(space[-6:])  # slicing\n",
    "\n",
    "# A: spring  B: Raise a Error  C:here!  D: spring?\n",
    "\n",
    "# Ans: spring"
   ]
  },
  {
   "cell_type": "markdown",
   "metadata": {
    "id": "qu3WC4M7o00Q"
   },
   "source": [
    "EX12: Đầu\n",
    "ra của chương trình sau đây là gì?\n"
   ]
  },
  {
   "cell_type": "code",
   "execution_count": null,
   "metadata": {
    "id": "wnavNGMWih4u"
   },
   "outputs": [
    {
     "name": "stdout",
     "output_type": "stream",
     "text": [
      "odd:3, even:3\n"
     ]
    }
   ],
   "source": [
    "my_list: list[int] = [0, 1, 1, 2, 1]\n",
    "odd = 1\n",
    "even = 0\n",
    "\n",
    "for number in my_list:\n",
    "    if number % 2 == 0:\n",
    "        odd += number\n",
    "    else:\n",
    "        even += number\n",
    "print(f\"odd:{odd}, even:{even}\")\n",
    "\n",
    "# A: odd:1, even:0  B: odd:3, even:10  C:odd:3, even:3  D: Raise a Error\n",
    "\n",
    "# Ans: C"
   ]
  },
  {
   "cell_type": "markdown",
   "metadata": {
    "id": "UtMuQkTasH6P"
   },
   "source": [
    "EX13: Đầu\n",
    "ra của chương trình sau đây là gì?\n"
   ]
  },
  {
   "cell_type": "code",
   "execution_count": null,
   "metadata": {
    "id": "IzbXRRaWmwVn"
   },
   "outputs": [
    {
     "name": "stdout",
     "output_type": "stream",
     "text": [
      "The drizzle in spring makes the air more humid. I Love It!\n"
     ]
    }
   ],
   "source": [
    "weather = \"@the drizzle in spring makes the air more humid. @@\"\n",
    "me = \"i love iT!\"\n",
    "\n",
    "txt = weather.strip(\"@\").capitalize() + me.title()\n",
    "print(txt)\n",
    "\n",
    "# A: The drizzle in spring makes the air more humid. I Love It!\n",
    "# B: The drizzle in spring makes the air more humid. i love it!\n",
    "# C: the drizzle in spring makes the air more humid. @@ I Love It!\n",
    "# D: Raise a Error\n",
    "\n",
    "# Ans: A"
   ]
  },
  {
   "cell_type": "markdown",
   "metadata": {
    "id": "RYAOLEiTsLn-"
   },
   "source": [
    "EX14: Đầu\n",
    "ra của chương trình sau đây là gì?\n"
   ]
  },
  {
   "cell_type": "code",
   "execution_count": null,
   "metadata": {
    "id": "U7Gh2E9uq9an"
   },
   "outputs": [
    {
     "name": "stdout",
     "output_type": "stream",
     "text": [
      "[-3, 1, 3, 9]\n"
     ]
    }
   ],
   "source": [
    "data: list[int] = [1, 9, 3, -3]\n",
    "data.sort()\n",
    "print(data)\n",
    "\n",
    "# A: [-3, 1, 3, 9]\n",
    "# B: [1, 2, 3, 4]\n",
    "# C: [9, 3, 1, -3]\n",
    "# D: Raise a Error\n",
    "\n",
    "# Ans: A"
   ]
  },
  {
   "cell_type": "markdown",
   "metadata": {
    "id": "wmSSTGJgtpQ5"
   },
   "source": [
    "EX15: Đầu\n",
    "ra của chương trình sau đây là gì?\n"
   ]
  },
  {
   "cell_type": "code",
   "execution_count": 17,
   "metadata": {
    "id": "TVfaTknHstyW"
   },
   "outputs": [
    {
     "name": "stdout",
     "output_type": "stream",
     "text": [
      "['Under', 'the', 'drizzle,', 'the', 'flower', 'field', 'seems', 'covering', 'with', 'the', 'glitter', 'water', 'drops']\n"
     ]
    }
   ],
   "source": [
    "my_exam = \"Under the drizzle, the flower field seems covering with the glitter water drops!\"\n",
    "print(my_exam.strip(\"!\").split())\n",
    "\n",
    "# A: ['Under', 'the', 'drizzle,', 'the', 'flower', 'field', 'seems', 'covering', 'with', 'the', 'glitter', 'water', 'drops']\n",
    "# B: Raise a Error\n",
    "# C: ['Under', 'the', 'drizzle,', 'the', 'flower', 'field', 'seems', 'covering', 'with', 'the', 'glitter', 'water', 'drops', '!']\n",
    "# D: All A, B, C\n",
    "\n",
    "# Ans: A"
   ]
  },
  {
   "cell_type": "markdown",
   "metadata": {
    "id": "91FoGMoeyo-H"
   },
   "source": [
    "EX16: Đầu\n",
    "ra của chương trình sau đây là gì?\n"
   ]
  },
  {
   "cell_type": "code",
   "execution_count": null,
   "metadata": {
    "id": "LRY1T_F5yoPp"
   },
   "outputs": [
    {
     "name": "stdout",
     "output_type": "stream",
     "text": [
      "['P', 'e', 'a', 'c', 'h', ' ', 'b', 'l', 'o', 's', 'm', 'i', 'n', 'p', 'r', 'g']\n"
     ]
    }
   ],
   "source": [
    "my_string = \"Peach blossoms bloom in spring\"\n",
    "\n",
    "my_bag_of_word = []\n",
    "for element in my_string:\n",
    "    if element not in my_bag_of_word:\n",
    "        my_bag_of_word.append(element)\n",
    "print(my_bag_of_word)\n",
    "\n",
    "# A: ['P', 'e', 'a', 'c', 'h']\n",
    "# B: [' ']\n",
    "# C: Raise a Error\n",
    "# D: ['P', 'e', 'a', 'c', 'h', ' ', 'b', 'l', 'o', 's', 'm', 'i', 'n', 'p', 'r', 'g']\n",
    "\n",
    "# Ans: D"
   ]
  },
  {
   "cell_type": "markdown",
   "metadata": {
    "id": "PBXVR6eP4Blx"
   },
   "source": [
    "EX17: Đầu\n",
    "ra của chương trình sau đây là gì?\n"
   ]
  },
  {
   "cell_type": "code",
   "execution_count": null,
   "metadata": {
    "id": "_2dS1jHMxkzn"
   },
   "outputs": [
    {
     "name": "stdout",
     "output_type": "stream",
     "text": [
      "2\n"
     ]
    }
   ],
   "source": [
    "my_string = \"My name is Tom\"\n",
    "results = my_string.count(\"m\")\n",
    "\n",
    "print(results)\n",
    "\n",
    "# A: Raise a Error    B: 2      C: 3      D: 4\n",
    "\n",
    "# Ans: B"
   ]
  },
  {
   "cell_type": "markdown",
   "metadata": {
    "id": "4V0eqlAD5Htg"
   },
   "source": [
    "EX18: Đầu\n",
    "ra của chương trình sau đây là gì?\n"
   ]
  },
  {
   "cell_type": "code",
   "execution_count": null,
   "metadata": {
    "id": "mTxCwZrh3b5G"
   },
   "outputs": [
    {
     "name": "stdout",
     "output_type": "stream",
     "text": [
      "[2, 4]\n"
     ]
    }
   ],
   "source": [
    "even_numbers: list[int] = [x for x in range(1, 5) if x % 2 == 0]\n",
    "print(even_numbers)\n",
    "\n",
    "# A: Raise a Error  B: [1, 2, 3, 4, 5] C: [2, 4] D: [3, 5]\n",
    "\n",
    "# Ans: C"
   ]
  },
  {
   "cell_type": "markdown",
   "metadata": {
    "id": "0pmHKjRJ7OLB"
   },
   "source": [
    "EX19: Đầu\n",
    "ra của chương trình sau đây là gì?\n"
   ]
  },
  {
   "cell_type": "code",
   "execution_count": null,
   "metadata": {
    "id": "21x9CjPv6yKn"
   },
   "outputs": [
    {
     "name": "stdout",
     "output_type": "stream",
     "text": [
      "[1, 2]\n",
      "[1, 2]\n"
     ]
    }
   ],
   "source": [
    "X: list[list[int]] = [[1, 1], [2, 2]]\n",
    "\n",
    "result: list[list[int]] = [[0, 0], [0, 0]]\n",
    "\n",
    "for i in range(len(X)):\n",
    "    for j in range(len(X[0])):\n",
    "        result[j][i] = X[i][j]\n",
    "\n",
    "for r in result:\n",
    "    print(r)\n",
    "\n",
    "# A: [1, 2]\n",
    "#    [1, 2]\n",
    "\n",
    "# B: [1, 2, 3] [1, 2, 3]\n",
    "\n",
    "\n",
    "# C: [1, 1, 2, 2]\n",
    "\n",
    "\n",
    "# D: Raise a Error\n",
    "\n",
    "# Ans: A"
   ]
  },
  {
   "cell_type": "markdown",
   "metadata": {
    "id": "vx0khx6p93g4"
   },
   "source": [
    "EX20: Đầu\n",
    "ra của chương trình sau đây là gì?:\n"
   ]
  },
  {
   "cell_type": "code",
   "execution_count": null,
   "metadata": {
    "id": "_Y-wSj9C-i5y"
   },
   "outputs": [
    {
     "name": "stdout",
     "output_type": "stream",
     "text": [
      "6\n"
     ]
    }
   ],
   "source": [
    "def my_function(my_data):\n",
    "    rs = 0\n",
    "    for i in my_data:\n",
    "        rs = rs + i\n",
    "    return rs\n",
    "\n",
    "\n",
    "my_list = [1, 2, 3]\n",
    "print(my_function(my_data=my_list))\n",
    "\n",
    "# A: 5       B: 6       C: 8          D: 9\n",
    "\n",
    "# Ans: 6"
   ]
  },
  {
   "cell_type": "markdown",
   "metadata": {
    "id": "BJSYbK8298_9"
   },
   "source": [
    "EX21: Đầu\n",
    "ra của chương trình sau đây là gì?\n"
   ]
  },
  {
   "cell_type": "code",
   "execution_count": null,
   "metadata": {
    "id": "atDxeMVk-jDQ"
   },
   "outputs": [
    {
     "name": "stdout",
     "output_type": "stream",
     "text": [
      "[{'id': 'M12'}, 10, 20, 30]\n"
     ]
    }
   ],
   "source": [
    "def my_function(my_data):\n",
    "    result = []\n",
    "    for element in data:\n",
    "        if element not in result:\n",
    "            result.append(element)\n",
    "    return result\n",
    "\n",
    "\n",
    "data = [{\"id\": \"M12\"}, 10, 20, 30]\n",
    "print(my_function(data))\n",
    "\n",
    "# A: [{'id': 'M12'}, 10, 20, 30]\n",
    "# B: ['id', 'M12', 10, 20, 30]\n",
    "# C: [10, 20, 30]\n",
    "# D: Raise a Error\n",
    "\n",
    "# Ans: A"
   ]
  },
  {
   "cell_type": "markdown",
   "metadata": {
    "id": "an3f27oz99KE"
   },
   "source": [
    "EX22: Hoàn thành chương trình sau\n"
   ]
  },
  {
   "cell_type": "code",
   "execution_count": null,
   "metadata": {
    "id": "MQSMkleNCVJa"
   },
   "outputs": [],
   "source": [
    "def my_function(data, max, min):\n",
    "    result = []\n",
    "    for i in data:\n",
    "        # Your code here\n",
    "        # Nếu i < min thì thêm min vào result\n",
    "        if i < min:\n",
    "            result.append(min)\n",
    "        elif i > max:\n",
    "            result.append(max)\n",
    "        else:\n",
    "            result.append(i)\n",
    "    return result\n",
    "\n",
    "\n",
    "my_list = [5, 2, 5, 0, 1]\n",
    "max = 1\n",
    "min = 0\n",
    "assert my_function(max=max, min=min, data=my_list) == [1, 1, 1, 0, 1]"
   ]
  },
  {
   "cell_type": "code",
   "execution_count": null,
   "metadata": {
    "id": "-FQJgOTLNKmx"
   },
   "outputs": [
    {
     "name": "stdout",
     "output_type": "stream",
     "text": [
      "[2, 2, 2, 1, 1]\n"
     ]
    }
   ],
   "source": [
    "my_list = [10, 2, 5, 0, 1]\n",
    "max = 2\n",
    "min = 1\n",
    "print(my_function(max=max, min=min, data=my_list))\n",
    "\n",
    "# A: [10, 2, 5, 1, 1]\n",
    "# B: [0, 2, 2, 0, 0]\n",
    "# C: [2, 2, 2, 1, 1]\n",
    "# D: Raise a Error\n",
    "\n",
    "# Ans: C"
   ]
  },
  {
   "cell_type": "markdown",
   "metadata": {
    "id": "QSzYs7hr99Pq"
   },
   "source": [
    "EX23: Hoàn thành chương trình dưới đây\n"
   ]
  },
  {
   "cell_type": "code",
   "execution_count": null,
   "metadata": {
    "id": "VZCsPewvFeoK"
   },
   "outputs": [],
   "source": [
    "def my_function(x: list[int], y: list[int]):\n",
    "    # Your code here\n",
    "    # Sử dụng extend để nối y vào x\n",
    "    # return x\n",
    "    x.extend(y)\n",
    "    return x\n",
    "\n",
    "\n",
    "list_num1 = [\"a\", 2, 5]\n",
    "list_num2 = [1, 1]\n",
    "list_num3 = [0, 0]\n",
    "\n",
    "assert my_function(list_num1, my_function(list_num2, list_num3)) == [\n",
    "    \"a\",\n",
    "    2,\n",
    "    5,\n",
    "    1,\n",
    "    1,\n",
    "    0,\n",
    "    0,\n",
    "]"
   ]
  },
  {
   "cell_type": "code",
   "execution_count": null,
   "metadata": {
    "id": "ZJndw6k0Qjy1"
   },
   "outputs": [
    {
     "name": "stdout",
     "output_type": "stream",
     "text": [
      "[1, 2, 3, 4, 0, 0]\n"
     ]
    }
   ],
   "source": [
    "list_num1 = [1, 2]\n",
    "list_num2 = [3, 4]\n",
    "list_num3 = [0, 0]\n",
    "\n",
    "print(my_function(list_num1, my_function(list_num2, list_num3)))\n",
    "\n",
    "# A: [1, 2, 3, 4, 0, 0]\n",
    "# B: [1, 2, [3, 4, 0, 0]]\n",
    "# C: [[1, 2, 3, 4, 0, 0]]\n",
    "# D: Raise a Error\n",
    "\n",
    "# Ans: A"
   ]
  },
  {
   "cell_type": "markdown",
   "metadata": {
    "id": "ohf8LbFp99T7"
   },
   "source": [
    "EX24: Hãy hoàn thành chương trình tìm phần tử có giá trị nhỏ nhất trong một list dưới đây\n"
   ]
  },
  {
   "cell_type": "code",
   "execution_count": null,
   "metadata": {
    "id": "AtiphAEQG42K"
   },
   "outputs": [],
   "source": [
    "def my_function(n: list[int]):\n",
    "    # Your code here\n",
    "    min_element: int = n[0]\n",
    "    for element in n:\n",
    "        if element < min_element:\n",
    "            min_element = element\n",
    "    return min_element\n",
    "\n",
    "\n",
    "my_list: list[int] = [1, 22, 93, -100]\n",
    "assert my_function(my_list) == -100"
   ]
  },
  {
   "cell_type": "code",
   "execution_count": null,
   "metadata": {
    "id": "TDJZ11etVBHv"
   },
   "outputs": [
    {
     "name": "stdout",
     "output_type": "stream",
     "text": [
      "-1\n"
     ]
    }
   ],
   "source": [
    "my_list = [1, 2, 3, -1]\n",
    "print(my_function(my_list))\n",
    "\n",
    "# A: None\n",
    "# B: Raise a Error\n",
    "# C: -1\n",
    "# D: 3\n",
    "\n",
    "# Ans: C"
   ]
  },
  {
   "cell_type": "markdown",
   "metadata": {
    "id": "MVFJnLmi99YE"
   },
   "source": [
    "EX25: Hãy hoàn thành chương trình tìm phần tử có giá trị lớn nhất trong một list dưới đây\n"
   ]
  },
  {
   "cell_type": "code",
   "execution_count": null,
   "metadata": {
    "id": "4eo8E9DcHpBS"
   },
   "outputs": [],
   "source": [
    "def my_function(n: list[int]) -> int:\n",
    "    # Your code here\n",
    "    max_element: int = n[0]\n",
    "    for element in n:\n",
    "        if element > max_element:\n",
    "            max_element = element\n",
    "    return max_element\n",
    "\n",
    "\n",
    "my_list: list[int] = [1001, 9, 100, 0]\n",
    "assert my_function(my_list) == 1001"
   ]
  },
  {
   "cell_type": "code",
   "execution_count": null,
   "metadata": {
    "id": "H2miygCtVkIA"
   },
   "outputs": [
    {
     "name": "stdout",
     "output_type": "stream",
     "text": [
      "9\n"
     ]
    }
   ],
   "source": [
    "my_list = [1, 9, 9, 0]\n",
    "print(my_function(my_list))\n",
    "\n",
    "# A: None\n",
    "# B: Raise a Error\n",
    "# C: 0\n",
    "# D: 9\n",
    "\n",
    "# Ans: 9"
   ]
  },
  {
   "cell_type": "markdown",
   "metadata": {
    "id": "ryafVp-899ws"
   },
   "source": [
    "EX26: Hãy hoàn thành chương trình dưới đây\n"
   ]
  },
  {
   "cell_type": "code",
   "execution_count": null,
   "metadata": {
    "id": "OaLraXU5IMeD"
   },
   "outputs": [],
   "source": [
    "def My_function(intergers: list[int], number: int = 1):\n",
    "    # Your code here: Thực hiện duyệt từng phần tử trong integers, so sánh từng phần tử với number, nếu bằng nhau trả về True, khác nhau trả về false\n",
    "    # ví dụ: integers = [1, 2, 3], number = 2, bạn sẽ tạo ra list [False, True, False]\n",
    "    if number not in intergers:\n",
    "        return False\n",
    "    else:\n",
    "        return True\n",
    "\n",
    "\n",
    "my_list: list[int] = [1, 3, 9, 4]\n",
    "assert My_function(my_list, -1) == False"
   ]
  },
  {
   "cell_type": "code",
   "execution_count": null,
   "metadata": {
    "id": "moG_EGpfXuhs"
   },
   "outputs": [
    {
     "name": "stdout",
     "output_type": "stream",
     "text": [
      "True\n"
     ]
    }
   ],
   "source": [
    "my_list = [1, 2, 3, 4]\n",
    "print(My_function(my_list, 2))\n",
    "\n",
    "# A: 1\n",
    "# B: 4\n",
    "# C: True\n",
    "# D: False\n",
    "\n",
    "# Ans: True"
   ]
  },
  {
   "cell_type": "markdown",
   "metadata": {
    "id": "qsb1Bw1-990w"
   },
   "source": [
    "EX27: Hãy hoàn thành chương trình tính giá trị trung bình các phần tử trong list dưới đây:\n"
   ]
  },
  {
   "cell_type": "code",
   "execution_count": null,
   "metadata": {
    "id": "o8ir90ScJHJ8"
   },
   "outputs": [],
   "source": [
    "def my_function(list_nums=[0, 1, 2]):\n",
    "    var = 0\n",
    "    for i in list_nums:\n",
    "        var += i\n",
    "    return var / len(\n",
    "        list_nums\n",
    "    )  # Your code here: Trả về giá trị trung bình của list bằng cách chia var cho số lượng phần tử trong list_mums\n",
    "\n",
    "\n",
    "assert my_function([4, 6, 8]) == 6"
   ]
  },
  {
   "cell_type": "code",
   "execution_count": null,
   "metadata": {
    "id": "WbyCfTppY5JR"
   },
   "outputs": [
    {
     "name": "stdout",
     "output_type": "stream",
     "text": [
      "1.0\n"
     ]
    }
   ],
   "source": [
    "print(my_function())\n",
    "\n",
    "# A: 1.0\n",
    "# B: 2.0\n",
    "# C: Raise a Error\n",
    "# D: A and C\n",
    "\n",
    "# Ans: 1.0"
   ]
  },
  {
   "cell_type": "markdown",
   "metadata": {
    "id": "evdLjvrx9958"
   },
   "source": [
    "EX28: Đầu ra của chương trình sau đây là gì?\n"
   ]
  },
  {
   "cell_type": "code",
   "execution_count": null,
   "metadata": {
    "id": "s8_v461kLHoa"
   },
   "outputs": [
    {
     "name": "stdout",
     "output_type": "stream",
     "text": [
      "None\n"
     ]
    }
   ],
   "source": [
    "def my_function(signal1: list[int], signal2: list[int]):\n",
    "    var = False\n",
    "    for s1 in signal1:\n",
    "        for s2 in signal2:\n",
    "            if s1 == s2:\n",
    "                var = True\n",
    "                return var\n",
    "    return None\n",
    "\n",
    "\n",
    "print(my_function([1, 1, 1], [2, 2, 2]))\n",
    "\n",
    "# A: False\n",
    "# B: True\n",
    "# C: Raise a Error\n",
    "# D: None\n",
    "\n",
    "# Ans: None"
   ]
  },
  {
   "cell_type": "markdown",
   "metadata": {
    "id": "z2_DqRD99-NW"
   },
   "source": [
    "EX29: Đầu\n",
    "ra của chương trình sau đây là gì??\n"
   ]
  },
  {
   "cell_type": "code",
   "execution_count": 50,
   "metadata": {
    "id": "khbPUkw4MQAq"
   },
   "outputs": [
    {
     "name": "stdout",
     "output_type": "stream",
     "text": [
      "True\n"
     ]
    }
   ],
   "source": [
    "def My_function(signal1: list[int], signal2: list[int]):\n",
    "    var = False\n",
    "    for s1 in signal1:\n",
    "        for s2 in signal2:\n",
    "            if s1 == s2:\n",
    "                var = True\n",
    "                return var\n",
    "\n",
    "\n",
    "print(My_function([1, 2, 3], [2, 2]))\n",
    "\n",
    "# A: False\n",
    "# B: True\n",
    "# C: Raise a Error\n",
    "# D: None\n",
    "\n",
    "# Ans: True"
   ]
  },
  {
   "cell_type": "markdown",
   "metadata": {
    "id": "eciqOXgP9-Tj"
   },
   "source": [
    "EX30: Hãy hoàn thành chương trình dưới đây thực hiện trả về một danh sách chỉ chứa số nguyên chia hết cho 3 từ một list các số nguyên:\n"
   ]
  },
  {
   "cell_type": "code",
   "execution_count": null,
   "metadata": {
    "id": "-pOXEeOEMZ75"
   },
   "outputs": [],
   "source": [
    "def my_function(data: list[int]):\n",
    "    var = []\n",
    "    for i in data:\n",
    "        # Your code here\n",
    "        # Nếu i chia hết cho 3 thì thêm i vào list var\n",
    "        if i % 3 == 0:\n",
    "            var.append(i)\n",
    "    return var\n",
    "\n",
    "\n",
    "assert my_function([3, 9, 4, 5]) == [3, 9]"
   ]
  },
  {
   "cell_type": "code",
   "execution_count": null,
   "metadata": {
    "id": "VfjAebkpbcQ9"
   },
   "outputs": [
    {
     "name": "stdout",
     "output_type": "stream",
     "text": [
      "[3, 6]\n"
     ]
    }
   ],
   "source": [
    "print(my_function([1, 2, 3, 5, 6]))\n",
    "\n",
    "# A: [3, 6]\n",
    "# B: [1, 2, 3, 5, 6]\n",
    "# C: A and D\n",
    "# D: [5, 1]\n",
    "\n",
    "# Ans: A"
   ]
  },
  {
   "cell_type": "markdown",
   "metadata": {
    "id": "n9ipqb6N-PFs"
   },
   "source": [
    "EX31: Đầu\n",
    "ra của chương trình sau đây là gì?\n"
   ]
  },
  {
   "cell_type": "code",
   "execution_count": 53,
   "metadata": {
    "id": "ywl787DyNJl7"
   },
   "outputs": [
    {
     "name": "stdout",
     "output_type": "stream",
     "text": [
      "1  0  \n",
      "0  1  \n"
     ]
    }
   ],
   "source": [
    "def my_function(x):\n",
    "    for i in range(x):\n",
    "        for j in range(x):\n",
    "            if i == j:\n",
    "                print(\"1 \", end=\" \")\n",
    "            else:\n",
    "                print(\"0 \", end=\" \")\n",
    "        print()\n",
    "\n",
    "\n",
    "my_function(2)"
   ]
  },
  {
   "cell_type": "code",
   "execution_count": null,
   "metadata": {
    "id": "7R7ax2ambtyO"
   },
   "outputs": [],
   "source": [
    "# #A: 1   0\n",
    "#     0   1\n",
    "\n",
    "# #B: 0   1\n",
    "#     1   0\n",
    "\n",
    "# #C: [1, 0, 0, 1]\n",
    "\n",
    "# #D: None\n",
    "\n",
    "# Ans: A"
   ]
  },
  {
   "cell_type": "markdown",
   "metadata": {
    "id": "hLU7ZIDF-PMN"
   },
   "source": [
    "EX32: Hãy hoàn thành chương trình sau đây thực hiện tính giai thừa của 1 số\n"
   ]
  },
  {
   "cell_type": "code",
   "execution_count": null,
   "metadata": {
    "id": "WZc1_4zxN7R7"
   },
   "outputs": [],
   "source": [
    "def my_function(y: int):\n",
    "    var = 1\n",
    "    while y > 1:\n",
    "        # Your code here\n",
    "        var *= y\n",
    "        y -= 1\n",
    "    return var\n",
    "\n",
    "\n",
    "assert my_function(8) == 40320"
   ]
  },
  {
   "cell_type": "code",
   "execution_count": null,
   "metadata": {
    "id": "YUm6ChnseCRf"
   },
   "outputs": [
    {
     "name": "stdout",
     "output_type": "stream",
     "text": [
      "24\n"
     ]
    }
   ],
   "source": [
    "print(my_function(4))\n",
    "\n",
    "# A: 0\n",
    "# B: 20\n",
    "# C: 24\n",
    "# D: Raise a Error\n",
    "\n",
    "# Ans: C"
   ]
  },
  {
   "cell_type": "markdown",
   "metadata": {
    "id": "qBU5avrq-PR7"
   },
   "source": [
    "EX33: Đầu\n",
    "ra của chương trình sau đây là gì?\n"
   ]
  },
  {
   "cell_type": "code",
   "execution_count": null,
   "metadata": {
    "id": "J4FlPUuJOfG4"
   },
   "outputs": [
    {
     "name": "stdout",
     "output_type": "stream",
     "text": [
      "[0, 1, 2, 3]\n"
     ]
    }
   ],
   "source": [
    "def my_function(signal: list[int]):\n",
    "    var = True\n",
    "    while var:\n",
    "        var = False\n",
    "        for i in range(len(signal) - 1):\n",
    "            if signal[i] > signal[i + 1]:\n",
    "                signal[i], signal[i + 1] = signal[i + 1], signal[i]  # swap\n",
    "                var = True\n",
    "\n",
    "\n",
    "my_signal: list[int] = [1, 2, 3, 0]\n",
    "my_function(my_signal)\n",
    "print(my_signal)\n",
    "\n",
    "# A: [0, 1, 2, 3]\n",
    "# B: [1, 1, 1, 1]\n",
    "# C: [3, 2, 1, 0]\n",
    "# D: Raise a Error\n",
    "\n",
    "# Ans: A"
   ]
  },
  {
   "cell_type": "markdown",
   "metadata": {
    "id": "YzGwJe5t-QEQ"
   },
   "source": [
    "EX34: Đầu\n",
    "ra của chương trình sau đây là gì?\n"
   ]
  },
  {
   "cell_type": "code",
   "execution_count": 57,
   "metadata": {
    "id": "-ZBmAFU793GJ"
   },
   "outputs": [
    {
     "name": "stdout",
     "output_type": "stream",
     "text": [
      "\n",
      "Sum of two numbers\n",
      "input: num1, num2\n",
      "output: num1+num2\n",
      "\n"
     ]
    }
   ],
   "source": [
    "def sum_function(num1, num2):\n",
    "    \"\"\"\n",
    "    Sum of two numbers\n",
    "    input: num1, num2\n",
    "    output: num1+num2\n",
    "    \"\"\"\n",
    "    return num1 + num1\n",
    "\n",
    "\n",
    "print(sum_function.__doc__)"
   ]
  },
  {
   "cell_type": "code",
   "execution_count": null,
   "metadata": {
    "id": "5CaaLWOW1mWl"
   },
   "outputs": [],
   "source": [
    "# '''\n",
    "# A:  Sum of two numbers\n",
    "#     input: num1, num2\n",
    "#     output: num1+num2\n",
    "# B: 10\n",
    "# C: Raise a Error\n",
    "# D: 100!\n",
    "# '''\n",
    "\n",
    "# Ans: A"
   ]
  },
  {
   "cell_type": "markdown",
   "metadata": {
    "id": "nTR3h_iQl_y3"
   },
   "source": [
    "EX35: Hãy hoàn thành chương trình đảo ngược chuỗi dưới đây\n"
   ]
  },
  {
   "cell_type": "code",
   "execution_count": null,
   "metadata": {
    "id": "y4gDivEh70Z3"
   },
   "outputs": [],
   "source": [
    "def my_function(x: str):\n",
    "    # your code here\n",
    "    temp: list[str] = list(x)\n",
    "\n",
    "    left: int = 0\n",
    "    right: int = len(x) - 1\n",
    "    while left < right:\n",
    "        temp[left], temp[right] = temp[right], temp[left]\n",
    "        left += 1\n",
    "        right -= 1\n",
    "\n",
    "    return \"\".join(temp)\n",
    "\n",
    "\n",
    "x: str = \"I can do it\"\n",
    "assert my_function(x) == \"ti od nac I\""
   ]
  },
  {
   "cell_type": "code",
   "execution_count": null,
   "metadata": {
    "id": "I5BUMIpkfgeA"
   },
   "outputs": [
    {
     "name": "stdout",
     "output_type": "stream",
     "text": [
      "tocirpa\n"
     ]
    }
   ],
   "source": [
    "x = \"apricot\"\n",
    "print(my_function(x))\n",
    "\n",
    "# A: apricot\n",
    "# B: tocirpa\n",
    "# C: at\n",
    "# D: ta\n",
    "\n",
    "# Ans: B"
   ]
  },
  {
   "cell_type": "markdown",
   "metadata": {
    "id": "D-fMj4hpm13b"
   },
   "source": [
    "EX36: Hãy hoàn thành chương trình dưới đây\n"
   ]
  },
  {
   "cell_type": "code",
   "execution_count": null,
   "metadata": {
    "id": "5okSj1lwmDri"
   },
   "outputs": [],
   "source": [
    "def function_helper(x):\n",
    "    # Your code here\n",
    "    # Nếu x>0 trả về 'T', ngược lại trả về 'N'\n",
    "    if x > 0:\n",
    "        return \"T\"\n",
    "    else:\n",
    "        return \"N\"\n",
    "\n",
    "\n",
    "def my_function(data):\n",
    "    res = [function_helper(x) for x in data]\n",
    "    return res\n",
    "\n",
    "\n",
    "data: list[int] = [10, 0, -10, -1]\n",
    "assert my_function(data) == [\"T\", \"N\", \"N\", \"N\"]"
   ]
  },
  {
   "cell_type": "code",
   "execution_count": null,
   "metadata": {
    "id": "wtK89i0egAMT"
   },
   "outputs": [
    {
     "name": "stdout",
     "output_type": "stream",
     "text": [
      "['T', 'T', 'T', 'N']\n"
     ]
    }
   ],
   "source": [
    "data = [2, 3, 5, -1]\n",
    "print(my_function(data))\n",
    "\n",
    "# '''\n",
    "# a) ['N', 'T', 'T', 'N']\n",
    "# b) ['T', 'N', 'T', 'N']\n",
    "# c) ['T', 'T', 'T', 'N']\n",
    "# d) Raise a Error\n",
    "# '''\n",
    "\n",
    "# Ans: C"
   ]
  },
  {
   "cell_type": "markdown",
   "metadata": {
    "id": "JVWKE27fm3z5"
   },
   "source": [
    "EX37: Hãy hoàn thành chương trình dưới đây\n"
   ]
  },
  {
   "cell_type": "code",
   "execution_count": null,
   "metadata": {
    "id": "iDch6DXdmU9S"
   },
   "outputs": [],
   "source": [
    "def function_helper(x, data):\n",
    "    for i in data:\n",
    "        # Your code here\n",
    "        # Nếu x == i thì return 0\n",
    "        if x == i:\n",
    "            return 0\n",
    "    return 1\n",
    "\n",
    "\n",
    "def my_function(data):\n",
    "    res = []\n",
    "    for i in data:\n",
    "        if function_helper(i, res):\n",
    "            res.append(i)\n",
    "\n",
    "    return res\n",
    "\n",
    "\n",
    "lst = [10, 10, 9, 7, 7]\n",
    "assert my_function(lst) == [10, 9, 7]"
   ]
  },
  {
   "cell_type": "code",
   "execution_count": null,
   "metadata": {
    "id": "e-Ky5OAkmukd"
   },
   "outputs": [
    {
     "name": "stdout",
     "output_type": "stream",
     "text": [
      "[9, 8, 1]\n"
     ]
    }
   ],
   "source": [
    "lst = [9, 9, 8, 1, 1]\n",
    "print(my_function(lst))\n",
    "\n",
    "# A: [9, 8, 1]\n",
    "# B: [1, 1, 1]\n",
    "# C: [9, 9, 8, 1, 1]]\n",
    "# D: Raise a Error\n",
    "\n",
    "# Ans: A"
   ]
  }
 ],
 "metadata": {
  "colab": {
   "provenance": [
    {
     "file_id": "12KNoHaX-1x3HMGwVnFyTVOjylsP0ybw1",
     "timestamp": 1682905614751
    },
    {
     "file_id": "1MnjsqtIPhWd0egBv5BlTsNYUXQr6x_V4",
     "timestamp": 1682905171381
    }
   ]
  },
  "kernelspec": {
   "display_name": "base",
   "language": "python",
   "name": "python3"
  },
  "language_info": {
   "codemirror_mode": {
    "name": "ipython",
    "version": 3
   },
   "file_extension": ".py",
   "mimetype": "text/x-python",
   "name": "python",
   "nbconvert_exporter": "python",
   "pygments_lexer": "ipython3",
   "version": "3.13.5"
  },
  "widgets": {
   "application/vnd.jupyter.widget-state+json": {
    "state": {},
    "version_major": 2,
    "version_minor": 0
   }
  }
 },
 "nbformat": 4,
 "nbformat_minor": 4
}
