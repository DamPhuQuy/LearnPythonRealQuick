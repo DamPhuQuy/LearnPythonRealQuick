{
 "cells": [
  {
   "cell_type": "markdown",
   "id": "bda915ff",
   "metadata": {},
   "source": [
    "## Unpacking and packing\n",
    "\n",
    "We use two operators:\n",
    "\n",
    "- \"*\" for tuples\n",
    "- \"**\" for dictionaries "
   ]
  },
  {
   "cell_type": "markdown",
   "id": "ddf6a7f7",
   "metadata": {},
   "source": [
    "##### Unpacking\n"
   ]
  },
  {
   "cell_type": "code",
   "execution_count": 1,
   "id": "6b7e08fd",
   "metadata": {},
   "outputs": [
    {
     "name": "stdout",
     "output_type": "stream",
     "text": [
      "15\n"
     ]
    }
   ],
   "source": [
    "def sum_of_five_num(a: int, b: int, c: int, d: int, e: int) -> int:\n",
    "    return a + b + c + d + e\n",
    "\n",
    "lst: list[int] = [1, 2, 3, 4, 5] \n",
    "print(sum_of_five_num(*lst)) "
   ]
  },
  {
   "cell_type": "code",
   "execution_count": 2,
   "id": "8ec12698",
   "metadata": {},
   "outputs": [
    {
     "name": "stdout",
     "output_type": "stream",
     "text": [
      "Finland\n",
      "Sweden\n",
      "Norway\n",
      "['Vietnam', 'Japanese']\n"
     ]
    }
   ],
   "source": [
    "countries: list[str] = [\n",
    "    \"Finland\", \n",
    "    \"Sweden\", \n",
    "    \"Norway\",\n",
    "    \"Vietnam\",\n",
    "    \"Japanese\"\n",
    "]\n",
    "fin, sw, nor, *rest = countries\n",
    "print(fin)\n",
    "print(sw)\n",
    "print(nor)\n",
    "print(rest)"
   ]
  },
  {
   "cell_type": "code",
   "execution_count": 3,
   "id": "5cc440dd",
   "metadata": {},
   "outputs": [
    {
     "name": "stdout",
     "output_type": "stream",
     "text": [
      "1 [2, 3, 4, 5, 6] 7\n"
     ]
    }
   ],
   "source": [
    "numbers: list[int] = [1, 2, 3, 4, 5, 6, 7]\n",
    "one, *middle, last = numbers\n",
    "print(one, middle, last) "
   ]
  },
  {
   "cell_type": "code",
   "execution_count": 6,
   "id": "33e32535",
   "metadata": {},
   "outputs": [
    {
     "name": "stdout",
     "output_type": "stream",
     "text": [
      "Apple lives in Finland, Helsinki. He is 250 years-old.\n"
     ]
    }
   ],
   "source": [
    "# Unpacking dictionaries\n",
    "from typing import TypedDict\n",
    "\n",
    "class PersonDict(TypedDict):\n",
    "    name: str\n",
    "    country: str\n",
    "    city: str\n",
    "    age: int\n",
    "\n",
    "def unpacking_person_info(name: str, country: str, city: str, age: int) -> str:\n",
    "    return f\"{name} lives in {country}, {city}. He is {age} years-old.\"\n",
    "dct: PersonDict = {\n",
    "    \"name\" : \"Apple\", \n",
    "    \"country\" : \"Finland\",\n",
    "    \"city\" : \"Helsinki\",\n",
    "    \"age\" : 250 \n",
    "}\n",
    "print(unpacking_person_info(**dct))"
   ]
  },
  {
   "cell_type": "markdown",
   "id": "e9d12a3a",
   "metadata": {},
   "source": [
    "##### Packing\n",
    "\n",
    "- Sometimes we never know how many arguments need to be passed to a python function.\n",
    "- Using the packing method to allow our function to take unlimited number or arbitrary number of arguments."
   ]
  },
  {
   "cell_type": "code",
   "execution_count": null,
   "id": "284fbb93",
   "metadata": {},
   "outputs": [
    {
     "name": "stdout",
     "output_type": "stream",
     "text": [
      "15\n"
     ]
    }
   ],
   "source": [
    "# Packing lists \n",
    "\n",
    "def sum_all(*args) -> int: \n",
    "    s: int = 0 \n",
    "    for i in args: \n",
    "        s += i\n",
    "    return s\n",
    "\n",
    "print(sum_all(1, 2, 3, 4, 5)) "
   ]
  },
  {
   "cell_type": "code",
   "execution_count": 10,
   "id": "862f040b",
   "metadata": {},
   "outputs": [
    {
     "name": "stdout",
     "output_type": "stream",
     "text": [
      "name = okay\n",
      "country = Finland\n",
      "{'name': 'okay', 'country': 'Finland'}\n"
     ]
    }
   ],
   "source": [
    "# Packing dictionaries\n",
    "\n",
    "def packing_person_info(**kwargs):\n",
    "    for key in kwargs.keys():\n",
    "        print(f\"{key} = {kwargs[key]}\")\n",
    "    return kwargs\n",
    "\n",
    "print(packing_person_info(\n",
    "    name=\"okay\",\n",
    "    country=\"Finland\"\n",
    "))"
   ]
  },
  {
   "cell_type": "code",
   "execution_count": 11,
   "id": "7b9d34e2",
   "metadata": {},
   "outputs": [
    {
     "name": "stdout",
     "output_type": "stream",
     "text": [
      "[0, 1, 2, 3, 4, 5, 6, 7]\n"
     ]
    }
   ],
   "source": [
    "# Spreading in python (Like in JS)\n",
    "\n",
    "list_one: list[int] = [1, 2, 3]\n",
    "list_two: list[int] = [4, 5, 6, 7] \n",
    "lst: list[int] = [0, *list_one, *list_two] \n",
    "print(lst) "
   ]
  },
  {
   "cell_type": "code",
   "execution_count": null,
   "id": "030b6232",
   "metadata": {},
   "outputs": [
    {
     "name": "stdout",
     "output_type": "stream",
     "text": [
      "0 20\n",
      "1 30\n",
      "2 40\n"
     ]
    }
   ],
   "source": [
    "# Enumerate (built-in function to get the index of each element in the list) \n",
    "for index, element in enumerate([20, 30, 40]):\n",
    "    print(index, element) "
   ]
  },
  {
   "cell_type": "code",
   "execution_count": 18,
   "id": "297ca5d6",
   "metadata": {},
   "outputs": [
    {
     "name": "stdout",
     "output_type": "stream",
     "text": [
      "[{'odd': 1, 'even': 2}, {'odd': 3, 'even': 4}, {'odd': 5, 'even': 6}, {'odd': 7, 'even': 8}, {'odd': 9, 'even': 10}]\n"
     ]
    }
   ],
   "source": [
    "# Zip (combine lists when looping through them)\n",
    "\n",
    "even: list[int] = [2, 4, 6, 8, 10] \n",
    "odd: list[int] = [1, 3, 5, 7, 9]\n",
    "even_odd: list[int] = [] \n",
    "\n",
    "for e, o in zip(even, odd):\n",
    "    even_odd.append({\n",
    "        \"odd\":o,\n",
    "        \"even\":e\n",
    "})\n",
    "\n",
    "print(even_odd)"
   ]
  }
 ],
 "metadata": {
  "kernelspec": {
   "display_name": "base",
   "language": "python",
   "name": "python3"
  },
  "language_info": {
   "codemirror_mode": {
    "name": "ipython",
    "version": 3
   },
   "file_extension": ".py",
   "mimetype": "text/x-python",
   "name": "python",
   "nbconvert_exporter": "python",
   "pygments_lexer": "ipython3",
   "version": "3.13.5"
  }
 },
 "nbformat": 4,
 "nbformat_minor": 5
}
