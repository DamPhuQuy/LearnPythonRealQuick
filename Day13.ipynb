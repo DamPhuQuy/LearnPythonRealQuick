{
 "cells": [
  {
   "cell_type": "markdown",
   "id": "7036e680",
   "metadata": {},
   "source": [
    "# File handling \n",
    "\n",
    "```python\n",
    "open(\"filename\", mode) # mode(r, a, w, x, t, b) could be to read, write, update\n",
    "```\n",
    "\n",
    "- \"r\" - read: Default value. Opens a file for reading, it returns an error if the files does not exist. \n",
    "- \"a\" - append: Opens a file for appending to the end of the file, creates the file if it does not exist. \n",
    "- \"w\" - write: Opens a file for writing and overwriting any existing content, creates the file if it does not exist. \n",
    "- \"t\" - text: Default value. Text mode\n",
    "- \"b\" - binary: Binary mode (e.g. images) \n",
    "\n",
    "```python\n",
    "f = open(\"files/example.txt\") # default is read\n",
    "print(f) # <_io.TextIOWrapper name='./files/reading_file_example.txt' mode='r' encoding='UTF-8'>\n",
    "```"
   ]
  },
  {
   "cell_type": "markdown",
   "id": "dc483904",
   "metadata": {},
   "source": [
    "#### Reading methods: "
   ]
  },
  {
   "cell_type": "markdown",
   "id": "e33c0827",
   "metadata": {},
   "source": [
    "- read(): read the whole text as string. read(number) to limit `the number of characters` we want to read."
   ]
  },
  {
   "cell_type": "code",
   "execution_count": null,
   "id": "19e6d39f",
   "metadata": {},
   "outputs": [
    {
     "name": "stdout",
     "output_type": "stream",
     "text": [
      "<class 'str'> \n",
      "\n",
      "Hello, this is a sample text file for testing purposes.\n",
      "\n",
      "Name: John Doe\n",
      "Age: 28\n",
      "Email: john.doe@example.com\n",
      "\n",
      "Favorite Programming Languages:\n",
      "- Python\n",
      "- Java\n",
      "- C++\n",
      "\n",
      "Quote of the day:\n",
      "\"Code is like humor. When you have to explain it, it’s bad.\" — Cory House\n",
      "\n"
     ]
    }
   ],
   "source": [
    "from io import TextIOWrapper\n",
    "\n",
    "f: TextIOWrapper = open(\"files/example.txt\") \n",
    "text: str = f.read()\n",
    "print(type(text), \"\\n\")\n",
    "print(text) \n",
    "f.close()"
   ]
  },
  {
   "cell_type": "code",
   "execution_count": null,
   "id": "01f876ab",
   "metadata": {},
   "outputs": [
    {
     "name": "stdout",
     "output_type": "stream",
     "text": [
      "Hello, this is a sample text \n"
     ]
    }
   ],
   "source": [
    "# Instead of printing all the text, we will limit the numbers of characters\n",
    "\n",
    "from io import TextIOWrapper\n",
    "\n",
    "f: TextIOWrapper = open(\"files/example.txt\")\n",
    "text: str = f.read(29) \n",
    "print(text)"
   ]
  },
  {
   "cell_type": "markdown",
   "id": "0443451d",
   "metadata": {},
   "source": [
    "- readline(): read only one the first line"
   ]
  },
  {
   "cell_type": "code",
   "execution_count": 8,
   "id": "e11cd24d",
   "metadata": {},
   "outputs": [
    {
     "name": "stdout",
     "output_type": "stream",
     "text": [
      "Hello, this is a sample text file for testing purposes.\n",
      "\n"
     ]
    }
   ],
   "source": [
    "from io import TextIOWrapper\n",
    "\n",
    "f: TextIOWrapper = open(\"files/example.txt\")\n",
    "text: str = f.readline()\n",
    "print(text) "
   ]
  },
  {
   "cell_type": "markdown",
   "id": "6300fa83",
   "metadata": {},
   "source": [
    "- readlines(): read all the text line by line and returns a list of lines"
   ]
  },
  {
   "cell_type": "code",
   "execution_count": 11,
   "id": "d487bc27",
   "metadata": {},
   "outputs": [
    {
     "name": "stdout",
     "output_type": "stream",
     "text": [
      "['Hello, this is a sample text file for testing purposes.\\n', '\\n', 'Name: John Doe\\n', 'Age: 28\\n', 'Email: john.doe@example.com\\n', '\\n', 'Favorite Programming Languages:\\n', '- Python\\n', '- Java\\n', '- C++\\n', '\\n', 'Quote of the day:\\n', '\"Code is like humor. When you have to explain it, it’s bad.\" — Cory House\\n']\n"
     ]
    }
   ],
   "source": [
    "from io import TextIOWrapper\n",
    "\n",
    "f: TextIOWrapper = open(\"files/example.txt\") \n",
    "texts: list[str] = f.readlines() \n",
    "print(texts)  "
   ]
  },
  {
   "cell_type": "markdown",
   "id": "06fd6aa1",
   "metadata": {},
   "source": [
    "- .read().splitlines(): also get all the lines as a list"
   ]
  },
  {
   "cell_type": "code",
   "execution_count": 12,
   "id": "3618c4ba",
   "metadata": {},
   "outputs": [
    {
     "name": "stdout",
     "output_type": "stream",
     "text": [
      "['Hello, this is a sample text file for testing purposes.', '', 'Name: John Doe', 'Age: 28', 'Email: john.doe@example.com', '', 'Favorite Programming Languages:', '- Python', '- Java', '- C++', '', 'Quote of the day:', '\"Code is like humor. When you have to explain it, it’s bad.\" — Cory House']\n"
     ]
    }
   ],
   "source": [
    "from io import TextIOWrapper\n",
    "\n",
    "f: TextIOWrapper = open(\"files/example.txt\") \n",
    "texts: list[str] = f.read().splitlines()\n",
    "print(texts)"
   ]
  },
  {
   "cell_type": "markdown",
   "id": "98d1445c",
   "metadata": {},
   "source": [
    "- After we open a file, we should close it"
   ]
  },
  {
   "cell_type": "code",
   "execution_count": 14,
   "id": "5f3ca634",
   "metadata": {},
   "outputs": [],
   "source": [
    "from io import TextIOWrapper\n",
    "\n",
    "f: TextIOWrapper = open(\"files/example.txt\") \n",
    "f.close()"
   ]
  },
  {
   "cell_type": "markdown",
   "id": "b3a8ab05",
   "metadata": {},
   "source": [
    "- But there is a high tendency of forgetting to close them. \n",
    "- There is new way of opening files using `with` - closes the files by itself"
   ]
  },
  {
   "cell_type": "code",
   "execution_count": 15,
   "id": "83a65531",
   "metadata": {},
   "outputs": [
    {
     "name": "stdout",
     "output_type": "stream",
     "text": [
      "<class 'list'>\n",
      "['Hello, this is a sample text file for testing purposes.', '', 'Name: John Doe', 'Age: 28', 'Email: john.doe@example.com', '', 'Favorite Programming Languages:', '- Python', '- Java', '- C++', '', 'Quote of the day:', '\"Code is like humor. When you have to explain it, it’s bad.\" — Cory House']\n"
     ]
    }
   ],
   "source": [
    "with open(\"files/example.txt\") as f: \n",
    "    lines: list[str] = f.read().splitlines()\n",
    "    print(type(lines)) \n",
    "    print(lines) "
   ]
  },
  {
   "cell_type": "markdown",
   "id": "8404df2d",
   "metadata": {},
   "source": [
    "##### Opening files for Writing and Updating\n",
    "\n",
    "- f.write() returns the number of characters that have wrote\n",
    "- if you want to write only and do not care the returned value, assign value to `_` (pass intentionally)\n",
    "- `_` also use in another case, not just in this lesson."
   ]
  },
  {
   "cell_type": "code",
   "execution_count": null,
   "id": "0a1bb570",
   "metadata": {},
   "outputs": [],
   "source": [
    "with open(\"files/example.txt\", \"a\") as f: \n",
    "    _ = f.write(\"This text has to be appended at the end\") "
   ]
  },
  {
   "cell_type": "code",
   "execution_count": null,
   "id": "eb28496e",
   "metadata": {},
   "outputs": [],
   "source": [
    "with open(\"files/writing_example.txt\", \"w\") as f:\n",
    "    _ = f.write(\"This text will be written\") "
   ]
  },
  {
   "cell_type": "markdown",
   "id": "db1c2235",
   "metadata": {},
   "source": [
    "##### Deleting files "
   ]
  },
  {
   "cell_type": "code",
   "execution_count": 25,
   "id": "2f073c0f",
   "metadata": {},
   "outputs": [],
   "source": [
    "# create deleting files\n",
    "import os\n",
    "from time import sleep \n",
    "\n",
    "with open(\"files/deleting_files.txt\", \"w\") as f:\n",
    "    _ = f.write(\"\")\n",
    "\n",
    "sleep(5) # pauses 5 seconds to see what will happen\n",
    "\n",
    "# delete \n",
    "os.remove(\"files/deleting_files.txt\")"
   ]
  },
  {
   "cell_type": "code",
   "execution_count": 26,
   "id": "1ba0a770",
   "metadata": {},
   "outputs": [
    {
     "name": "stdout",
     "output_type": "stream",
     "text": [
      "The file does not exist\n"
     ]
    }
   ],
   "source": [
    "# If the file does not exist, the remove method will raise an error, so it is good to use a condition like this\n",
    "\n",
    "import os \n",
    "if os.path.exists(\"files/deleting_files.txt\"):\n",
    "    os.remove(\"files/deleting_files.txt\") \n",
    "else:\n",
    "    print(\"The file does not exist\") "
   ]
  },
  {
   "cell_type": "markdown",
   "id": "c10f9c0d",
   "metadata": {},
   "source": [
    "##### File types\n",
    "\n",
    "- .txt\n",
    "- .json (JavaScript Object Notation)\n",
    "- .csv (Comma Separated values) \n",
    "- .xlsx (excel file)\n",
    "- .xml ()"
   ]
  },
  {
   "cell_type": "code",
   "execution_count": null,
   "id": "011ea86c",
   "metadata": {},
   "outputs": [
    {
     "name": "stdout",
     "output_type": "stream",
     "text": [
      "<class 'dict'>\n",
      "{'name': 'Apple', 'country': 'Finland', 'city': 'Vietnam', 'skills': ['JS', 'React', 'Python']}\n",
      "Apple\n"
     ]
    }
   ],
   "source": [
    "# changing json to dictionary (using json module and loads(var_json) method) \n",
    "\n",
    "import json\n",
    "\n",
    "# json is basically a string that contains the data\n",
    "# so we have to convert it into Python's internal dictionary type \n",
    "# (even though they look very similar)\n",
    "person_json: str = \"\"\"{\n",
    "    \"name\": \"Apple\",\n",
    "    \"country\": \"Finland\",\n",
    "    \"city\": \"Vietnam\",\n",
    "    \"skills\": [\"JS\", \"React\", \"Python\"]\n",
    "}\"\"\"\n",
    "\n",
    "person_dict: dict[str, str | list[str]] = json.loads(person_json)\n",
    "\n",
    "print(type(person_dict))\n",
    "print(person_dict)\n",
    "print(person_dict[\"name\"])"
   ]
  },
  {
   "cell_type": "code",
   "execution_count": null,
   "id": "bbb12ada",
   "metadata": {},
   "outputs": [
    {
     "name": "stdout",
     "output_type": "stream",
     "text": [
      "<class 'str'>\n",
      "{\n",
      "    \"name\": \"Asabeneh\",\n",
      "    \"country\": \"Finland\",\n",
      "    \"city\": \"Helsinki\",\n",
      "    \"skills\": [\n",
      "        \"JavaScrip\",\n",
      "        \"React\",\n",
      "        \"Python\"\n",
      "    ]\n",
      "}\n"
     ]
    }
   ],
   "source": [
    "# changing dictionary to json \n",
    "# (using dumps(var_dict) method from json module)\n",
    "\n",
    "import json\n",
    "# python dictionary\n",
    "person: dict[str, str | list[str]] = {\n",
    "    \"name\": \"Asabeneh\",\n",
    "    \"country\": \"Finland\",\n",
    "    \"city\": \"Helsinki\",\n",
    "    \"skills\": [\"JavaScrip\", \"React\", \"Python\"]\n",
    "}\n",
    "\n",
    "person_json = json.dumps(person, indent=4) # indent could be 2, 4, 8. It beautifies the json\n",
    "print(type(person_json))\n",
    "print(person_json)"
   ]
  },
  {
   "cell_type": "code",
   "execution_count": null,
   "id": "7336ec72",
   "metadata": {},
   "outputs": [],
   "source": [
    "# Saving as JSON file\n",
    "# writing json a file, use json.dump() method (different than json.dumps() above)\n",
    "# it can take dictionary, output file, ensure_ascii and indent.\n",
    "\n",
    "import json \n",
    "\n",
    "person: dict[str, str | list[str]] = {\n",
    "    \"name\":\"Apple\",\n",
    "    \"country\":\"Finland\",\n",
    "    \"city\":\"Vietnam\",\n",
    "    \"skills\":[\"JavaScript\", \"Python\"] \n",
    "}\n",
    "\n",
    "with open(\"files/json_example.json\", \"w\", encoding=\"utf-8\") as f: \n",
    "    json.dump(person, f, ensure_ascii=False, indent=4)"
   ]
  }
 ],
 "metadata": {
  "kernelspec": {
   "display_name": "base",
   "language": "python",
   "name": "python3"
  },
  "language_info": {
   "codemirror_mode": {
    "name": "ipython",
    "version": 3
   },
   "file_extension": ".py",
   "mimetype": "text/x-python",
   "name": "python",
   "nbconvert_exporter": "python",
   "pygments_lexer": "ipython3",
   "version": "3.13.5"
  }
 },
 "nbformat": 4,
 "nbformat_minor": 5
}
